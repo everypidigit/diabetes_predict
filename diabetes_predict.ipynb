{
  "nbformat": 4,
  "nbformat_minor": 0,
  "metadata": {
    "colab": {
      "name": "diabetes_predict.ipynb",
      "provenance": [],
      "collapsed_sections": [],
      "mount_file_id": "13MkdmelyZvJrIS8srp3sqnMiTs9_-ZDs",
      "authorship_tag": "ABX9TyN/nFq6+HJM52uItyfAHxFa",
      "include_colab_link": true
    },
    "kernelspec": {
      "name": "python3",
      "display_name": "Python 3"
    },
    "language_info": {
      "name": "python"
    }
  },
  "cells": [
    {
      "cell_type": "markdown",
      "metadata": {
        "id": "view-in-github",
        "colab_type": "text"
      },
      "source": [
        "<a href=\"https://colab.research.google.com/github/everypidigit/diabetes_predict/blob/main/diabetes_predict.ipynb\" target=\"_parent\"><img src=\"https://colab.research.google.com/assets/colab-badge.svg\" alt=\"Open In Colab\"/></a>"
      ]
    },
    {
      "cell_type": "code",
      "execution_count": 3,
      "metadata": {
        "id": "wks35w8hrwIE"
      },
      "outputs": [],
      "source": [
        "import tensorflow\n",
        "import numpy as np\n",
        "import pandas as pd\n",
        "import matplotlib.pyplot as plt\n",
        "from sklearn.model_selection import train_test_split"
      ]
    },
    {
      "cell_type": "code",
      "source": [
        "df = pd.read_csv('/content/drive/MyDrive/Datasets/diabetes.csv')\n",
        "df.head()"
      ],
      "metadata": {
        "colab": {
          "base_uri": "https://localhost:8080/",
          "height": 206
        },
        "id": "3IQAQJPbGmwa",
        "outputId": "ccd9a874-6bc8-4385-a82e-53be6c77d4bd"
      },
      "execution_count": 4,
      "outputs": [
        {
          "output_type": "execute_result",
          "data": {
            "text/plain": [
              "   Pregnancies  Glucose  BloodPressure  SkinThickness  Insulin   BMI  \\\n",
              "0            6      148             72             35        0  33.6   \n",
              "1            1       85             66             29        0  26.6   \n",
              "2            8      183             64              0        0  23.3   \n",
              "3            1       89             66             23       94  28.1   \n",
              "4            0      137             40             35      168  43.1   \n",
              "\n",
              "   DiabetesPedigreeFunction  Age  Outcome  \n",
              "0                     0.627   50        1  \n",
              "1                     0.351   31        0  \n",
              "2                     0.672   32        1  \n",
              "3                     0.167   21        0  \n",
              "4                     2.288   33        1  "
            ],
            "text/html": [
              "\n",
              "  <div id=\"df-de02c80d-065a-4574-887d-b2e46b34f1d1\">\n",
              "    <div class=\"colab-df-container\">\n",
              "      <div>\n",
              "<style scoped>\n",
              "    .dataframe tbody tr th:only-of-type {\n",
              "        vertical-align: middle;\n",
              "    }\n",
              "\n",
              "    .dataframe tbody tr th {\n",
              "        vertical-align: top;\n",
              "    }\n",
              "\n",
              "    .dataframe thead th {\n",
              "        text-align: right;\n",
              "    }\n",
              "</style>\n",
              "<table border=\"1\" class=\"dataframe\">\n",
              "  <thead>\n",
              "    <tr style=\"text-align: right;\">\n",
              "      <th></th>\n",
              "      <th>Pregnancies</th>\n",
              "      <th>Glucose</th>\n",
              "      <th>BloodPressure</th>\n",
              "      <th>SkinThickness</th>\n",
              "      <th>Insulin</th>\n",
              "      <th>BMI</th>\n",
              "      <th>DiabetesPedigreeFunction</th>\n",
              "      <th>Age</th>\n",
              "      <th>Outcome</th>\n",
              "    </tr>\n",
              "  </thead>\n",
              "  <tbody>\n",
              "    <tr>\n",
              "      <th>0</th>\n",
              "      <td>6</td>\n",
              "      <td>148</td>\n",
              "      <td>72</td>\n",
              "      <td>35</td>\n",
              "      <td>0</td>\n",
              "      <td>33.6</td>\n",
              "      <td>0.627</td>\n",
              "      <td>50</td>\n",
              "      <td>1</td>\n",
              "    </tr>\n",
              "    <tr>\n",
              "      <th>1</th>\n",
              "      <td>1</td>\n",
              "      <td>85</td>\n",
              "      <td>66</td>\n",
              "      <td>29</td>\n",
              "      <td>0</td>\n",
              "      <td>26.6</td>\n",
              "      <td>0.351</td>\n",
              "      <td>31</td>\n",
              "      <td>0</td>\n",
              "    </tr>\n",
              "    <tr>\n",
              "      <th>2</th>\n",
              "      <td>8</td>\n",
              "      <td>183</td>\n",
              "      <td>64</td>\n",
              "      <td>0</td>\n",
              "      <td>0</td>\n",
              "      <td>23.3</td>\n",
              "      <td>0.672</td>\n",
              "      <td>32</td>\n",
              "      <td>1</td>\n",
              "    </tr>\n",
              "    <tr>\n",
              "      <th>3</th>\n",
              "      <td>1</td>\n",
              "      <td>89</td>\n",
              "      <td>66</td>\n",
              "      <td>23</td>\n",
              "      <td>94</td>\n",
              "      <td>28.1</td>\n",
              "      <td>0.167</td>\n",
              "      <td>21</td>\n",
              "      <td>0</td>\n",
              "    </tr>\n",
              "    <tr>\n",
              "      <th>4</th>\n",
              "      <td>0</td>\n",
              "      <td>137</td>\n",
              "      <td>40</td>\n",
              "      <td>35</td>\n",
              "      <td>168</td>\n",
              "      <td>43.1</td>\n",
              "      <td>2.288</td>\n",
              "      <td>33</td>\n",
              "      <td>1</td>\n",
              "    </tr>\n",
              "  </tbody>\n",
              "</table>\n",
              "</div>\n",
              "      <button class=\"colab-df-convert\" onclick=\"convertToInteractive('df-de02c80d-065a-4574-887d-b2e46b34f1d1')\"\n",
              "              title=\"Convert this dataframe to an interactive table.\"\n",
              "              style=\"display:none;\">\n",
              "        \n",
              "  <svg xmlns=\"http://www.w3.org/2000/svg\" height=\"24px\"viewBox=\"0 0 24 24\"\n",
              "       width=\"24px\">\n",
              "    <path d=\"M0 0h24v24H0V0z\" fill=\"none\"/>\n",
              "    <path d=\"M18.56 5.44l.94 2.06.94-2.06 2.06-.94-2.06-.94-.94-2.06-.94 2.06-2.06.94zm-11 1L8.5 8.5l.94-2.06 2.06-.94-2.06-.94L8.5 2.5l-.94 2.06-2.06.94zm10 10l.94 2.06.94-2.06 2.06-.94-2.06-.94-.94-2.06-.94 2.06-2.06.94z\"/><path d=\"M17.41 7.96l-1.37-1.37c-.4-.4-.92-.59-1.43-.59-.52 0-1.04.2-1.43.59L10.3 9.45l-7.72 7.72c-.78.78-.78 2.05 0 2.83L4 21.41c.39.39.9.59 1.41.59.51 0 1.02-.2 1.41-.59l7.78-7.78 2.81-2.81c.8-.78.8-2.07 0-2.86zM5.41 20L4 18.59l7.72-7.72 1.47 1.35L5.41 20z\"/>\n",
              "  </svg>\n",
              "      </button>\n",
              "      \n",
              "  <style>\n",
              "    .colab-df-container {\n",
              "      display:flex;\n",
              "      flex-wrap:wrap;\n",
              "      gap: 12px;\n",
              "    }\n",
              "\n",
              "    .colab-df-convert {\n",
              "      background-color: #E8F0FE;\n",
              "      border: none;\n",
              "      border-radius: 50%;\n",
              "      cursor: pointer;\n",
              "      display: none;\n",
              "      fill: #1967D2;\n",
              "      height: 32px;\n",
              "      padding: 0 0 0 0;\n",
              "      width: 32px;\n",
              "    }\n",
              "\n",
              "    .colab-df-convert:hover {\n",
              "      background-color: #E2EBFA;\n",
              "      box-shadow: 0px 1px 2px rgba(60, 64, 67, 0.3), 0px 1px 3px 1px rgba(60, 64, 67, 0.15);\n",
              "      fill: #174EA6;\n",
              "    }\n",
              "\n",
              "    [theme=dark] .colab-df-convert {\n",
              "      background-color: #3B4455;\n",
              "      fill: #D2E3FC;\n",
              "    }\n",
              "\n",
              "    [theme=dark] .colab-df-convert:hover {\n",
              "      background-color: #434B5C;\n",
              "      box-shadow: 0px 1px 3px 1px rgba(0, 0, 0, 0.15);\n",
              "      filter: drop-shadow(0px 1px 2px rgba(0, 0, 0, 0.3));\n",
              "      fill: #FFFFFF;\n",
              "    }\n",
              "  </style>\n",
              "\n",
              "      <script>\n",
              "        const buttonEl =\n",
              "          document.querySelector('#df-de02c80d-065a-4574-887d-b2e46b34f1d1 button.colab-df-convert');\n",
              "        buttonEl.style.display =\n",
              "          google.colab.kernel.accessAllowed ? 'block' : 'none';\n",
              "\n",
              "        async function convertToInteractive(key) {\n",
              "          const element = document.querySelector('#df-de02c80d-065a-4574-887d-b2e46b34f1d1');\n",
              "          const dataTable =\n",
              "            await google.colab.kernel.invokeFunction('convertToInteractive',\n",
              "                                                     [key], {});\n",
              "          if (!dataTable) return;\n",
              "\n",
              "          const docLinkHtml = 'Like what you see? Visit the ' +\n",
              "            '<a target=\"_blank\" href=https://colab.research.google.com/notebooks/data_table.ipynb>data table notebook</a>'\n",
              "            + ' to learn more about interactive tables.';\n",
              "          element.innerHTML = '';\n",
              "          dataTable['output_type'] = 'display_data';\n",
              "          await google.colab.output.renderOutput(dataTable, element);\n",
              "          const docLink = document.createElement('div');\n",
              "          docLink.innerHTML = docLinkHtml;\n",
              "          element.appendChild(docLink);\n",
              "        }\n",
              "      </script>\n",
              "    </div>\n",
              "  </div>\n",
              "  "
            ]
          },
          "metadata": {},
          "execution_count": 4
        }
      ]
    },
    {
      "cell_type": "code",
      "source": [
        "for i in range(len(df.columns[:-1])):\n",
        "  label = df.columns[i]\n",
        "  plt.hist(df[df['Outcome']==1][label], color = 'red', label='Has Diabetes',alpha=0.7, density=True, bins = 15)\n",
        "  plt.hist(df[df['Outcome']==0][label], color = 'blue', label='Has no Diabetes',alpha=0.7, density=True, bins = 15)\n",
        "  plt.title(label)\n",
        "  plt.ylabel('Probability')\n",
        "  plt.xlabel(label)\n",
        "  plt.legend()\n",
        "  plt.show()\n"
      ],
      "metadata": {
        "colab": {
          "base_uri": "https://localhost:8080/",
          "height": 1000
        },
        "id": "o0-jcriBJcAI",
        "outputId": "1f577ae5-ce7d-42b3-ce14-b3a22a11f264"
      },
      "execution_count": 5,
      "outputs": [
        {
          "output_type": "display_data",
          "data": {
            "text/plain": [
              "<Figure size 432x288 with 1 Axes>"
            ],
            "image/png": "[encoded data removed]"
          },
          "metadata": {
            "needs_background": "light"
          }
        },
        {
          "output_type": "display_data",
          "data": {
            "text/plain": [
              "<Figure size 432x288 with 1 Axes>"
            ],
            "image/png": "[encoded data removed]"
          },
          "metadata": {
            "needs_background": "light"
          }
        },
        {
          "output_type": "display_data",
          "data": {
            "text/plain": [
              "<Figure size 432x288 with 1 Axes>"
            ],
            "image/png": "[encoded data removed]"
          },
          "metadata": {
            "needs_background": "light"
          }
        },
        {
          "output_type": "display_data",
          "data": {
            "text/plain": [
              "<Figure size 432x288 with 1 Axes>"
            ],
            "image/png": "[encoded data removed]"
          },
          "metadata": {
            "needs_background": "light"
          }
        },
        {
          "output_type": "display_data",
          "data": {
            "text/plain": [
              "<Figure size 432x288 with 1 Axes>"
            ],
            "image/png": "[encoded data removed]"
          },
          "metadata": {
            "needs_background": "light"
          }
        },
        {
          "output_type": "display_data",
          "data": {
            "text/plain": [
              "<Figure size 432x288 with 1 Axes>"
            ],
            "image/png": "[encoded data removed]"
          },
          "metadata": {
            "needs_background": "light"
          }
        },
        {
          "output_type": "display_data",
          "data": {
            "text/plain": [
              "<Figure size 432x288 with 1 Axes>"
            ],
            "image/png": "[encoded data removed]"
          },
          "metadata": {
            "needs_background": "light"
          }
        },
        {
          "output_type": "display_data",
          "data": {
            "text/plain": [
              "<Figure size 432x288 with 1 Axes>"
            ],
            "image/png": "[encoded data removed]"
          },
          "metadata": {
            "needs_background": "light"
          }
        }
      ]
    },
    {
      "cell_type": "code",
      "source": [
        "X = df[df.columns[:-1]].values\n",
        "y = df[df.columns[-1]].values\n",
        "\n",
        "X_train, X_temp, y_train, y_temp = train_test_split(X, y, test_size = 0.5, random_state = 0)\n",
        "X_valid, X_test, y_valid, y_test = train_test_split(X, y, test_size = 0.5, random_state = 0)\n",
        "\n",
        "#building the neural network itself: inside the sequential class, these are the neural network layers\n",
        "model = tensorflow.keras.Sequential([\n",
        "          tensorflow.keras.layers.Dense(16, activation = 'relu'),     #if x< 0 then this becomes 0, if x > 0, then becomes x\n",
        "          tensorflow.keras.layers.Dense(16, activation = 'relu'), \n",
        "          tensorflow.keras.layers.Dense(16, activation = 'relu'), \n",
        "          tensorflow.keras.layers.Dense(24, activation = 'relu'), \n",
        "          tensorflow.keras.layers.Dense(1, activation = 'sigmoid')\n",
        "])\n",
        "\n",
        "model.compile(optimizer = tensorflow.keras.optimizers.Adam(learning_rate = 0.002),\n",
        "              loss = tensorflow.keras.losses.BinaryCrossentropy(),\n",
        "              metrics = ['accuracy']\n",
        ")\n",
        "model.evaluate(X_train, y_train)"
      ],
      "metadata": {
        "id": "UDCpcaA5LkzD",
        "colab": {
          "base_uri": "https://localhost:8080/"
        },
        "outputId": "5ce06170-c05b-40a0-afec-81b4b71c3e64"
      },
      "execution_count": 17,
      "outputs": [
        {
          "output_type": "stream",
          "name": "stdout",
          "text": [
            "12/12 [==============================] - 0s 2ms/step - loss: 4.2234 - accuracy: 0.6432\n"
          ]
        },
        {
          "output_type": "execute_result",
          "data": {
            "text/plain": [
              "[4.223408222198486, 0.6432291865348816]"
            ]
          },
          "metadata": {},
          "execution_count": 17
        }
      ]
    },
    {
      "cell_type": "code",
      "source": [
        "model.evaluate(X_valid, y_valid)"
      ],
      "metadata": {
        "colab": {
          "base_uri": "https://localhost:8080/"
        },
        "id": "Me_zNypz25Zs",
        "outputId": "897a2a7e-de61-4f66-f4f3-fadc267b2195"
      },
      "execution_count": 12,
      "outputs": [
        {
          "output_type": "stream",
          "name": "stdout",
          "text": [
            "12/12 [==============================] - 0s 2ms/step - loss: 6.7084 - accuracy: 0.6432\n"
          ]
        },
        {
          "output_type": "execute_result",
          "data": {
            "text/plain": [
              "[6.708401203155518, 0.6432291865348816]"
            ]
          },
          "metadata": {},
          "execution_count": 12
        }
      ]
    },
    {
      "cell_type": "code",
      "source": [
        "model.fit(X_train, y_train, batch_size = 32, epochs = 24, validation_data = (X_valid, y_valid) )"
      ],
      "metadata": {
        "id": "i7iLs8vJ28F-",
        "colab": {
          "base_uri": "https://localhost:8080/"
        },
        "outputId": "13ab71a1-f5cc-43a3-d8f8-33477eabcb18"
      },
      "execution_count": 26,
      "outputs": [
        {
          "output_type": "stream",
          "name": "stdout",
          "text": [
            "Epoch 1/24\n",
            "12/12 [==============================] - 0s 8ms/step - loss: 0.2884 - accuracy: 0.8724 - val_loss: 0.2584 - val_accuracy: 0.8984\n",
            "Epoch 2/24\n",
            "12/12 [==============================] - 0s 5ms/step - loss: 0.2927 - accuracy: 0.8698 - val_loss: 0.2823 - val_accuracy: 0.8906\n",
            "Epoch 3/24\n",
            "12/12 [==============================] - 0s 5ms/step - loss: 0.3095 - accuracy: 0.8802 - val_loss: 0.3084 - val_accuracy: 0.8672\n",
            "Epoch 4/24\n",
            "12/12 [==============================] - 0s 5ms/step - loss: 0.3263 - accuracy: 0.8438 - val_loss: 0.3157 - val_accuracy: 0.8542\n",
            "Epoch 5/24\n",
            "12/12 [==============================] - 0s 5ms/step - loss: 0.3288 - accuracy: 0.8438 - val_loss: 0.3163 - val_accuracy: 0.8542\n",
            "Epoch 6/24\n",
            "12/12 [==============================] - 0s 5ms/step - loss: 0.3311 - accuracy: 0.8516 - val_loss: 0.3132 - val_accuracy: 0.8516\n",
            "Epoch 7/24\n",
            "12/12 [==============================] - 0s 5ms/step - loss: 0.3365 - accuracy: 0.8516 - val_loss: 0.2771 - val_accuracy: 0.8880\n",
            "Epoch 8/24\n",
            "12/12 [==============================] - 0s 5ms/step - loss: 0.3251 - accuracy: 0.8568 - val_loss: 0.2939 - val_accuracy: 0.8776\n",
            "Epoch 9/24\n",
            "12/12 [==============================] - 0s 6ms/step - loss: 0.2919 - accuracy: 0.8724 - val_loss: 0.2813 - val_accuracy: 0.8646\n",
            "Epoch 10/24\n",
            "12/12 [==============================] - 0s 5ms/step - loss: 0.3035 - accuracy: 0.8620 - val_loss: 0.2700 - val_accuracy: 0.8776\n",
            "Epoch 11/24\n",
            "12/12 [==============================] - 0s 6ms/step - loss: 0.2933 - accuracy: 0.8620 - val_loss: 0.3260 - val_accuracy: 0.8542\n",
            "Epoch 12/24\n",
            "12/12 [==============================] - 0s 5ms/step - loss: 0.3215 - accuracy: 0.8594 - val_loss: 0.3077 - val_accuracy: 0.8411\n",
            "Epoch 13/24\n",
            "12/12 [==============================] - 0s 6ms/step - loss: 0.3183 - accuracy: 0.8411 - val_loss: 0.2771 - val_accuracy: 0.8698\n",
            "Epoch 14/24\n",
            "12/12 [==============================] - 0s 5ms/step - loss: 0.3186 - accuracy: 0.8490 - val_loss: 0.2822 - val_accuracy: 0.8750\n",
            "Epoch 15/24\n",
            "12/12 [==============================] - 0s 6ms/step - loss: 0.2949 - accuracy: 0.8698 - val_loss: 0.2717 - val_accuracy: 0.8932\n",
            "Epoch 16/24\n",
            "12/12 [==============================] - 0s 5ms/step - loss: 0.2887 - accuracy: 0.8828 - val_loss: 0.2829 - val_accuracy: 0.8776\n",
            "Epoch 17/24\n",
            "12/12 [==============================] - 0s 5ms/step - loss: 0.2851 - accuracy: 0.8620 - val_loss: 0.2527 - val_accuracy: 0.8984\n",
            "Epoch 18/24\n",
            "12/12 [==============================] - 0s 5ms/step - loss: 0.2723 - accuracy: 0.8932 - val_loss: 0.2822 - val_accuracy: 0.8646\n",
            "Epoch 19/24\n",
            "12/12 [==============================] - 0s 6ms/step - loss: 0.2861 - accuracy: 0.8880 - val_loss: 0.2552 - val_accuracy: 0.9036\n",
            "Epoch 20/24\n",
            "12/12 [==============================] - 0s 5ms/step - loss: 0.2623 - accuracy: 0.8984 - val_loss: 0.2547 - val_accuracy: 0.8984\n",
            "Epoch 21/24\n",
            "12/12 [==============================] - 0s 5ms/step - loss: 0.2719 - accuracy: 0.8880 - val_loss: 0.2700 - val_accuracy: 0.8828\n",
            "Epoch 22/24\n",
            "12/12 [==============================] - 0s 5ms/step - loss: 0.2745 - accuracy: 0.8776 - val_loss: 0.2510 - val_accuracy: 0.8958\n",
            "Epoch 23/24\n",
            "12/12 [==============================] - 0s 5ms/step - loss: 0.2731 - accuracy: 0.8802 - val_loss: 0.2964 - val_accuracy: 0.8516\n",
            "Epoch 24/24\n",
            "12/12 [==============================] - 0s 5ms/step - loss: 0.3261 - accuracy: 0.8385 - val_loss: 0.2923 - val_accuracy: 0.8620\n"
          ]
        },
        {
          "output_type": "execute_result",
          "data": {
            "text/plain": [
              "<keras.callbacks.History at 0x7f121f5ddd90>"
            ]
          },
          "metadata": {},
          "execution_count": 26
        }
      ]
    },
    {
      "cell_type": "code",
      "source": [
        "model.fit(X_train, y_train, batch_size = 32, epochs = 30, validation_data = (X_valid, y_valid) )"
      ],
      "metadata": {
        "colab": {
          "base_uri": "https://localhost:8080/"
        },
        "id": "gL0a6HhqSiGy",
        "outputId": "08e99073-1973-4c17-8288-ad45b515996b"
      },
      "execution_count": 27,
      "outputs": [
        {
          "output_type": "stream",
          "name": "stdout",
          "text": [
            "Epoch 1/30\n",
            "12/12 [==============================] - 0s 11ms/step - loss: 0.2877 - accuracy: 0.8828 - val_loss: 0.2679 - val_accuracy: 0.8828\n",
            "Epoch 2/30\n",
            "12/12 [==============================] - 0s 10ms/step - loss: 0.2954 - accuracy: 0.8594 - val_loss: 0.2873 - val_accuracy: 0.8880\n",
            "Epoch 3/30\n",
            "12/12 [==============================] - 0s 8ms/step - loss: 0.2890 - accuracy: 0.8776 - val_loss: 0.2876 - val_accuracy: 0.8646\n",
            "Epoch 4/30\n",
            "12/12 [==============================] - 0s 8ms/step - loss: 0.3055 - accuracy: 0.8568 - val_loss: 0.2636 - val_accuracy: 0.8854\n",
            "Epoch 5/30\n",
            "12/12 [==============================] - 0s 11ms/step - loss: 0.2801 - accuracy: 0.8802 - val_loss: 0.2601 - val_accuracy: 0.8828\n",
            "Epoch 6/30\n",
            "12/12 [==============================] - 0s 8ms/step - loss: 0.2753 - accuracy: 0.8724 - val_loss: 0.2449 - val_accuracy: 0.9141\n",
            "Epoch 7/30\n",
            "12/12 [==============================] - 0s 7ms/step - loss: 0.2686 - accuracy: 0.8932 - val_loss: 0.2508 - val_accuracy: 0.9089\n",
            "Epoch 8/30\n",
            "12/12 [==============================] - 0s 11ms/step - loss: 0.2725 - accuracy: 0.8828 - val_loss: 0.2673 - val_accuracy: 0.8932\n",
            "Epoch 9/30\n",
            "12/12 [==============================] - 0s 11ms/step - loss: 0.2679 - accuracy: 0.8802 - val_loss: 0.2461 - val_accuracy: 0.9010\n",
            "Epoch 10/30\n",
            "12/12 [==============================] - 0s 8ms/step - loss: 0.2561 - accuracy: 0.8854 - val_loss: 0.2572 - val_accuracy: 0.9193\n",
            "Epoch 11/30\n",
            "12/12 [==============================] - 0s 6ms/step - loss: 0.2661 - accuracy: 0.8880 - val_loss: 0.2513 - val_accuracy: 0.8906\n",
            "Epoch 12/30\n",
            "12/12 [==============================] - 0s 5ms/step - loss: 0.2623 - accuracy: 0.8802 - val_loss: 0.2444 - val_accuracy: 0.9010\n",
            "Epoch 13/30\n",
            "12/12 [==============================] - 0s 5ms/step - loss: 0.2856 - accuracy: 0.8854 - val_loss: 0.2613 - val_accuracy: 0.8880\n",
            "Epoch 14/30\n",
            "12/12 [==============================] - 0s 5ms/step - loss: 0.3186 - accuracy: 0.8464 - val_loss: 0.2901 - val_accuracy: 0.8620\n",
            "Epoch 15/30\n",
            "12/12 [==============================] - 0s 5ms/step - loss: 0.3111 - accuracy: 0.8620 - val_loss: 0.2723 - val_accuracy: 0.8802\n",
            "Epoch 16/30\n",
            "12/12 [==============================] - 0s 6ms/step - loss: 0.2860 - accuracy: 0.8724 - val_loss: 0.2734 - val_accuracy: 0.8828\n",
            "Epoch 17/30\n",
            "12/12 [==============================] - 0s 6ms/step - loss: 0.2885 - accuracy: 0.8776 - val_loss: 0.2596 - val_accuracy: 0.8958\n",
            "Epoch 18/30\n",
            "12/12 [==============================] - 0s 5ms/step - loss: 0.2787 - accuracy: 0.8698 - val_loss: 0.2513 - val_accuracy: 0.8958\n",
            "Epoch 19/30\n",
            "12/12 [==============================] - 0s 5ms/step - loss: 0.3180 - accuracy: 0.8568 - val_loss: 0.3062 - val_accuracy: 0.8750\n",
            "Epoch 20/30\n",
            "12/12 [==============================] - 0s 6ms/step - loss: 0.2949 - accuracy: 0.8750 - val_loss: 0.2608 - val_accuracy: 0.8724\n",
            "Epoch 21/30\n",
            "12/12 [==============================] - 0s 5ms/step - loss: 0.2825 - accuracy: 0.8646 - val_loss: 0.2641 - val_accuracy: 0.8854\n",
            "Epoch 22/30\n",
            "12/12 [==============================] - 0s 5ms/step - loss: 0.2910 - accuracy: 0.8724 - val_loss: 0.2557 - val_accuracy: 0.8906\n",
            "Epoch 23/30\n",
            "12/12 [==============================] - 0s 5ms/step - loss: 0.2851 - accuracy: 0.8672 - val_loss: 0.3042 - val_accuracy: 0.8568\n",
            "Epoch 24/30\n",
            "12/12 [==============================] - 0s 5ms/step - loss: 0.3273 - accuracy: 0.8646 - val_loss: 0.3065 - val_accuracy: 0.8464\n",
            "Epoch 25/30\n",
            "12/12 [==============================] - 0s 6ms/step - loss: 0.3079 - accuracy: 0.8490 - val_loss: 0.2714 - val_accuracy: 0.8776\n",
            "Epoch 26/30\n",
            "12/12 [==============================] - 0s 5ms/step - loss: 0.2959 - accuracy: 0.8802 - val_loss: 0.2684 - val_accuracy: 0.8828\n",
            "Epoch 27/30\n",
            "12/12 [==============================] - 0s 5ms/step - loss: 0.2811 - accuracy: 0.8854 - val_loss: 0.2748 - val_accuracy: 0.8802\n",
            "Epoch 28/30\n",
            "12/12 [==============================] - 0s 5ms/step - loss: 0.2943 - accuracy: 0.8698 - val_loss: 0.2716 - val_accuracy: 0.8672\n",
            "Epoch 29/30\n",
            "12/12 [==============================] - 0s 5ms/step - loss: 0.2916 - accuracy: 0.8802 - val_loss: 0.2801 - val_accuracy: 0.8776\n",
            "Epoch 30/30\n",
            "12/12 [==============================] - 0s 5ms/step - loss: 0.2950 - accuracy: 0.8542 - val_loss: 0.2480 - val_accuracy: 0.9010\n"
          ]
        },
        {
          "output_type": "execute_result",
          "data": {
            "text/plain": [
              "<keras.callbacks.History at 0x7f1223f43410>"
            ]
          },
          "metadata": {},
          "execution_count": 27
        }
      ]
    },
    {
      "cell_type": "code",
      "source": [
        "model.fit(X_train, y_train, batch_size = 32, epochs = 12, validation_data = (X_valid, y_valid) )"
      ],
      "metadata": {
        "colab": {
          "base_uri": "https://localhost:8080/"
        },
        "id": "4NVK41VuSmZg",
        "outputId": "871fa418-8cb7-4111-d9e7-7dbb0e6492aa"
      },
      "execution_count": 29,
      "outputs": [
        {
          "output_type": "stream",
          "name": "stdout",
          "text": [
            "Epoch 1/12\n",
            "12/12 [==============================] - 0s 8ms/step - loss: 0.2724 - accuracy: 0.8776 - val_loss: 0.2604 - val_accuracy: 0.8802\n",
            "Epoch 2/12\n",
            "12/12 [==============================] - 0s 5ms/step - loss: 0.2816 - accuracy: 0.8568 - val_loss: 0.2757 - val_accuracy: 0.8724\n",
            "Epoch 3/12\n",
            "12/12 [==============================] - 0s 5ms/step - loss: 0.3069 - accuracy: 0.8646 - val_loss: 0.3032 - val_accuracy: 0.8464\n",
            "Epoch 4/12\n",
            "12/12 [==============================] - 0s 5ms/step - loss: 0.3361 - accuracy: 0.8307 - val_loss: 0.3382 - val_accuracy: 0.8594\n",
            "Epoch 5/12\n",
            "12/12 [==============================] - 0s 5ms/step - loss: 0.3307 - accuracy: 0.8359 - val_loss: 0.3453 - val_accuracy: 0.8594\n",
            "Epoch 6/12\n",
            "12/12 [==============================] - 0s 5ms/step - loss: 0.2987 - accuracy: 0.8828 - val_loss: 0.2882 - val_accuracy: 0.8620\n",
            "Epoch 7/12\n",
            "12/12 [==============================] - 0s 5ms/step - loss: 0.3034 - accuracy: 0.8646 - val_loss: 0.2782 - val_accuracy: 0.8802\n",
            "Epoch 8/12\n",
            "12/12 [==============================] - 0s 6ms/step - loss: 0.2928 - accuracy: 0.8594 - val_loss: 0.2978 - val_accuracy: 0.8854\n",
            "Epoch 9/12\n",
            "12/12 [==============================] - 0s 5ms/step - loss: 0.3133 - accuracy: 0.8724 - val_loss: 0.2838 - val_accuracy: 0.8802\n",
            "Epoch 10/12\n",
            "12/12 [==============================] - 0s 5ms/step - loss: 0.2921 - accuracy: 0.8646 - val_loss: 0.2583 - val_accuracy: 0.8854\n",
            "Epoch 11/12\n",
            "12/12 [==============================] - 0s 5ms/step - loss: 0.2795 - accuracy: 0.8776 - val_loss: 0.2361 - val_accuracy: 0.8984\n",
            "Epoch 12/12\n",
            "12/12 [==============================] - 0s 6ms/step - loss: 0.2690 - accuracy: 0.8906 - val_loss: 0.2318 - val_accuracy: 0.9115\n"
          ]
        },
        {
          "output_type": "execute_result",
          "data": {
            "text/plain": [
              "<keras.callbacks.History at 0x7f122426d750>"
            ]
          },
          "metadata": {},
          "execution_count": 29
        }
      ]
    }
  ]
}